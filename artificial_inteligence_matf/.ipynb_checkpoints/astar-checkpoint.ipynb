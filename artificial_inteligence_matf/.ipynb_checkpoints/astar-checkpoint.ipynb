{
 "cells": [
  {
   "cell_type": "code",
   "execution_count": 1,
   "id": "fc20737a",
   "metadata": {},
   "outputs": [],
   "source": [
    "import json\n",
    "import copy\n",
    "from collections import defaultdict"
   ]
  },
  {
   "cell_type": "code",
   "execution_count": 3,
   "id": "b09c6001",
   "metadata": {},
   "outputs": [],
   "source": [
    "with open('cities.json', 'r') as f:\n",
    "    adj_list = dict(json.load(f))"
   ]
  },
  {
   "cell_type": "code",
   "execution_count": 4,
   "id": "c1344991",
   "metadata": {},
   "outputs": [
    {
     "data": {
      "text/plain": [
       "[['Sibiu', 140], ['Timisoara', 118], ['Zerind', 75]]"
      ]
     },
     "execution_count": 4,
     "metadata": {},
     "output_type": "execute_result"
    }
   ],
   "source": [
    "adj_list['Arad']"
   ]
  },
  {
   "cell_type": "code",
   "execution_count": 5,
   "id": "0c62064e",
   "metadata": {},
   "outputs": [
    {
     "name": "stdout",
     "output_type": "stream",
     "text": [
      "Sibiu 140\n",
      "Timisoara 118\n",
      "Zerind 75\n"
     ]
    }
   ],
   "source": [
    "for neighbour, weight in adj_list['Arad']:\n",
    "    print(neighbour, weight)"
   ]
  },
  {
   "cell_type": "markdown",
   "id": "4d05601a",
   "metadata": {},
   "source": [
    "Astar"
   ]
  },
  {
   "cell_type": "code",
   "execution_count": 6,
   "id": "2a23a676",
   "metadata": {},
   "outputs": [],
   "source": [
    "def get_next_node(open_set, heuristic_guess):\n",
    "    v = None\n",
    "    min_d = float('inf')\n",
    "    for node in open_set:\n",
    "        if node in heuristic_guess:\n",
    "            guess = heuristic_guess[node]\n",
    "            if guess < min_d:\n",
    "                min_d = guess\n",
    "                v = node\n",
    "    return v"
   ]
  },
  {
   "cell_type": "code",
   "execution_count": 8,
   "id": "a2c47431",
   "metadata": {},
   "outputs": [],
   "source": [
    "def astar(adj_list, start_node, target_node, h):\n",
    "    open_set = set([start_node])\n",
    "    \n",
    "    parents = {}\n",
    "    parents[start_node] = None\n",
    "    \n",
    "    cheapest_paths = {v:float('inf') for v in adj_list}\n",
    "    cheapest_paths[start_node] = 0\n",
    "    \n",
    "    heuristic_guess = {v:float('inf') for v in adj_list}\n",
    "    heuristic_guess[start_node] = h(start_node)\n",
    "    \n",
    "    path_found = False\n",
    "    while len(open_set) > 0:\n",
    "        current_node = get_next_node(open_set, heuristic_guess)\n",
    "        \n",
    "        if current_node == target_node:\n",
    "            path_found = True\n",
    "            break\n",
    "        \n",
    "        open_set.remove(current_node)\n",
    "        for (neighbour_node, weight) in adj_list[current_node]:\n",
    "            new_cheapest_path = cheapest_paths[current_node] + weight\n",
    "            \n",
    "            if new_cheapest_path < cheapest_paths[neighbour_node]:\n",
    "                parents[neighbour_node] = current_node\n",
    "                cheapest_paths[neighbour_node] = new_cheapest_path\n",
    "                heuristic_guess[neighbour_node] = new_cheapest_path + h(neighbour_node)\n",
    "                \n",
    "                if neighbour_node is not open_set:\n",
    "                    open_set.add(neighbour_node)\n",
    "        \n",
    "    path = []\n",
    "    if path_found:\n",
    "        while target_node is not None:\n",
    "            path.append(target_node)\n",
    "            target_node = parents[target_node]\n",
    "        path.reverse()\n",
    "    \n",
    "    return path"
   ]
  },
  {
   "cell_type": "code",
   "execution_count": 9,
   "id": "0351ab75",
   "metadata": {},
   "outputs": [],
   "source": [
    "def h(n):\n",
    "    H = {\n",
    "            'Oradea': 380,\n",
    "            'Zerind': 374,\n",
    "            'Arad': 366,\n",
    "            'Timisoara' : 329,\n",
    "            'Lugoj' : 244,\n",
    "            'Mehadia' : 241,\n",
    "            'Drobeta' : 242,\n",
    "            'Sibiu' : 253,\n",
    "            'Fagaras': 176,\n",
    "            'Rimnicu Vilacea' : 193,\n",
    "            'Pitesti' : 100,\n",
    "            'Craiova' : 160,\n",
    "            'Buchares' : 0\n",
    "    }\n",
    "    return H[n] if n in H else 400"
   ]
  },
  {
   "cell_type": "code",
   "execution_count": 10,
   "id": "543df2ed",
   "metadata": {},
   "outputs": [],
   "source": [
    "start_node = 'Buchares'\n",
    "target_node = 'Oradea'\n",
    "path = astar(adj_list, start_node, target_node, h)"
   ]
  },
  {
   "cell_type": "code",
   "execution_count": 11,
   "id": "62153274",
   "metadata": {},
   "outputs": [
    {
     "data": {
      "text/plain": [
       "['Buchares', 'Pitesti', 'Rimnicu Vilacea', 'Sibiu', 'Oradea']"
      ]
     },
     "execution_count": 11,
     "metadata": {},
     "output_type": "execute_result"
    }
   ],
   "source": [
    "path"
   ]
  },
  {
   "cell_type": "markdown",
   "id": "ef3cba8c",
   "metadata": {},
   "source": [
    "Lojdova slagalica"
   ]
  },
  {
   "cell_type": "code",
   "execution_count": 12,
   "id": "fcdc581f",
   "metadata": {},
   "outputs": [],
   "source": [
    "start = [\n",
    "    [4,1,3],\n",
    "    [0,2,5],\n",
    "    [7,8,6]\n",
    "]\n",
    "# '4:1:3:0:2:5:7:8:6'\n",
    "target = [\n",
    "    [1,2,3],\n",
    "    [4,5,6],\n",
    "    [7,8,0]\n",
    "]"
   ]
  },
  {
   "cell_type": "code",
   "execution_count": 13,
   "id": "343ab184",
   "metadata": {},
   "outputs": [
    {
     "data": {
      "text/plain": [
       "'4:1:3:0:2:5:7:8:6'"
      ]
     },
     "execution_count": 13,
     "metadata": {},
     "output_type": "execute_result"
    }
   ],
   "source": [
    "def serialize(matrix):\n",
    "    result = []\n",
    "    for row in matrix:\n",
    "        for col in row:\n",
    "            result.append(str(col)) # [4,1,3,0,2,5,7,8,6]\n",
    "    return ':'.join(result)\n",
    "serialize(start)"
   ]
  },
  {
   "cell_type": "code",
   "execution_count": 14,
   "id": "006d1f87",
   "metadata": {},
   "outputs": [
    {
     "data": {
      "text/plain": [
       "[[4, 1, 3], [0, 2, 5], [7, 8, 6]]"
      ]
     },
     "execution_count": 14,
     "metadata": {},
     "output_type": "execute_result"
    }
   ],
   "source": [
    "def deserialize(state):\n",
    "    splited = state.split(':') # ['4', '1', '3', '0'...]\n",
    "    splited = [int(x) for x in splited]\n",
    "    return [splited[:3], splited[3:6], splited[6:]]\n",
    "\n",
    "serialized = serialize(start)\n",
    "deserialize(serialized)"
   ]
  },
  {
   "cell_type": "code",
   "execution_count": 15,
   "id": "c610e615",
   "metadata": {},
   "outputs": [],
   "source": [
    "def get_neighbours(state):\n",
    "    matrix = deserialize(state)\n",
    "    blank_i, blank_j = -1, -1\n",
    "    \n",
    "    n = len(matrix)\n",
    "    for i in range(n):\n",
    "        for j in range(n):\n",
    "            if matrix[i][j] == 0:\n",
    "                blank_i, blank_j = i, j\n",
    "                break\n",
    "    \n",
    "    neighbours = []\n",
    "    if blank_i > 0:\n",
    "        new_matrix = copy.deepcopy(matrix)\n",
    "        new_matrix[blank_i][blank_j] = new_matrix[blank_i - 1][blank_j]\n",
    "        new_matrix[blank_i - 1][blank_j] = 0\n",
    "        neighbours.append(serialize(new_matrix))\n",
    "    \n",
    "    if blank_i < (n-1):\n",
    "        new_matrix = copy.deepcopy(matrix)\n",
    "        new_matrix[blank_i][blank_j] = new_matrix[blank_i + 1][blank_j]\n",
    "        new_matrix[blank_i + 1][blank_j] = 0\n",
    "        neighbours.append(serialize(new_matrix))\n",
    "    \n",
    "    if blank_j > 0:\n",
    "        new_matrix = copy.deepcopy(matrix)\n",
    "        new_matrix[blank_i][blank_j] = new_matrix[blank_i][blank_j - 1]\n",
    "        new_matrix[blank_i][blank_j - 1] = 0\n",
    "        neighbours.append(serialize(new_matrix))\n",
    "    \n",
    "    if blank_j < (n-1):\n",
    "        new_matrix = copy.deepcopy(matrix)\n",
    "        new_matrix[blank_i][blank_j] = new_matrix[blank_i][blank_j + 1]\n",
    "        new_matrix[blank_i][blank_j + 1] = 0\n",
    "        neighbours.append(serialize(new_matrix))\n",
    "    \n",
    "    return zip(neighbours, [1 for _ in neighbours])"
   ]
  },
  {
   "cell_type": "code",
   "execution_count": 19,
   "id": "1440cd5e",
   "metadata": {},
   "outputs": [],
   "source": [
    "def loyd_astar(start_node, target_node, h):\n",
    "    open_set = set([start_node])\n",
    "    \n",
    "    parents = {}\n",
    "    parents[start_node] = None\n",
    "    \n",
    "    cheapest_paths = defaultdict(lambda: float('inf'))\n",
    "    cheapest_paths[start_node] = 0\n",
    "    \n",
    "    heuristic_guess = defaultdict(lambda: float('inf'))\n",
    "    heuristic_guess[start_node] = h(start_node)\n",
    "    \n",
    "    path_found = False\n",
    "    while len(open_set) > 0:\n",
    "        current_node = get_next_node(open_set, heuristic_guess)\n",
    "        \n",
    "        if current_node == target_node:\n",
    "            path_found = True\n",
    "            break\n",
    "        \n",
    "        open_set.remove(current_node)\n",
    "        for (neighbour_node, weight) in get_neighbours(current_node):\n",
    "            new_cheapest_path = cheapest_paths[current_node] + weight\n",
    "            \n",
    "            if new_cheapest_path < cheapest_paths[neighbour_node]:\n",
    "                parents[neighbour_node] = current_node\n",
    "                cheapest_paths[neighbour_node] = new_cheapest_path\n",
    "                heuristic_guess[neighbour_node] = new_cheapest_path + h(neighbour_node)\n",
    "                \n",
    "                if neighbour_node is not open_set:\n",
    "                    open_set.add(neighbour_node)\n",
    "        \n",
    "    path = []\n",
    "    if path_found:\n",
    "        while target_node is not None:\n",
    "            path.append(target_node)\n",
    "            target_node = parents[target_node]\n",
    "        path.reverse()\n",
    "    \n",
    "    return path"
   ]
  },
  {
   "cell_type": "code",
   "execution_count": 17,
   "id": "a5f05e67",
   "metadata": {},
   "outputs": [],
   "source": [
    "def loyd_h(state):\n",
    "    state = deserialize(state)\n",
    "    H = 0\n",
    "    n = len(state)\n",
    "    for i in range(n):\n",
    "        for j in range(n):\n",
    "            H += abs(state[i][j] % n - j) + abs(state[i][j] / n - i)    \n",
    "    return H"
   ]
  },
  {
   "cell_type": "code",
   "execution_count": 20,
   "id": "b827b231",
   "metadata": {},
   "outputs": [],
   "source": [
    "path = loyd_astar(serialize(start), serialize(target), loyd_h)"
   ]
  },
  {
   "cell_type": "code",
   "execution_count": 21,
   "id": "94b4ea14",
   "metadata": {},
   "outputs": [
    {
     "data": {
      "text/plain": [
       "['4:1:3:0:2:5:7:8:6',\n",
       " '0:1:3:4:2:5:7:8:6',\n",
       " '1:0:3:4:2:5:7:8:6',\n",
       " '1:2:3:4:0:5:7:8:6',\n",
       " '1:2:3:4:5:0:7:8:6',\n",
       " '1:2:3:4:5:6:7:8:0']"
      ]
     },
     "execution_count": 21,
     "metadata": {},
     "output_type": "execute_result"
    }
   ],
   "source": [
    "path"
   ]
  },
  {
   "cell_type": "code",
   "execution_count": 22,
   "id": "59058014",
   "metadata": {},
   "outputs": [
    {
     "name": "stdout",
     "output_type": "stream",
     "text": [
      "[[4, 1, 3], [0, 2, 5], [7, 8, 6]]\n",
      "[[0, 1, 3], [4, 2, 5], [7, 8, 6]]\n",
      "[[1, 0, 3], [4, 2, 5], [7, 8, 6]]\n",
      "[[1, 2, 3], [4, 0, 5], [7, 8, 6]]\n",
      "[[1, 2, 3], [4, 5, 0], [7, 8, 6]]\n",
      "[[1, 2, 3], [4, 5, 6], [7, 8, 0]]\n"
     ]
    }
   ],
   "source": [
    "for step in path:\n",
    "    print(deserialize(step))"
   ]
  }
 ],
 "metadata": {
  "kernelspec": {
   "display_name": "Python 3 (ipykernel)",
   "language": "python",
   "name": "python3"
  },
  "language_info": {
   "codemirror_mode": {
    "name": "ipython",
    "version": 3
   },
   "file_extension": ".py",
   "mimetype": "text/x-python",
   "name": "python",
   "nbconvert_exporter": "python",
   "pygments_lexer": "ipython3",
   "version": "3.8.10"
  }
 },
 "nbformat": 4,
 "nbformat_minor": 5
}
