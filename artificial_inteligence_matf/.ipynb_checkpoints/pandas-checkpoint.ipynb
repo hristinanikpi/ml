{
 "cells": [
  {
   "cell_type": "code",
   "execution_count": 1,
   "id": "8bf48365",
   "metadata": {},
   "outputs": [],
   "source": [
    "import pandas as pd"
   ]
  },
  {
   "cell_type": "code",
   "execution_count": null,
   "id": "46f919b2",
   "metadata": {},
   "outputs": [],
   "source": [
    "df = pd.read_csv('iris.csv')\n",
    "\n",
    "# Prikazujemo prvih 5 instanci iz skupa podataka\n",
    "print('Prvih 5 instanci:')\n",
    "df.head()"
   ]
  },
  {
   "cell_type": "code",
   "execution_count": null,
   "id": "c47da319",
   "metadata": {},
   "outputs": [],
   "source": [
    "# Izracunavamo neke statistike nad podacima\n",
    "print('\\nOpis podataka:')\n",
    "df.describe()"
   ]
  },
  {
   "cell_type": "code",
   "execution_count": null,
   "id": "f703a43d",
   "metadata": {},
   "outputs": [],
   "source": [
    "# Broj elemenata\n",
    "print('Broj instanci:', df.size)\n",
    "\n",
    "# Dimenzionalnost\n",
    "# (150, 5)\n",
    "# 150   -> broj instanci\n",
    "# 5     -> 5 atributa\n",
    "print('Dimenzije podataka:', df.shape)\n",
    "\n",
    "print('Broj atributa:', df.shape[1])"
   ]
  },
  {
   "cell_type": "code",
   "execution_count": null,
   "id": "8ab99b61",
   "metadata": {},
   "outputs": [],
   "source": [
    "print(\"Kolone (atributi):\")\n",
    "for col in df.columns:\n",
    "#     print('- {}'.format(col))\n",
    "    print(f'- {col}')\n",
    "# - sepal_length\n",
    "# - sepal_width\n",
    "# - petal_length\n",
    "# - petal_width\n",
    "# - species"
   ]
  },
  {
   "cell_type": "code",
   "execution_count": null,
   "id": "b10c9be3",
   "metadata": {},
   "outputs": [],
   "source": [
    "# Uzorkovanje, na primer zelimo da uzmemo 10% uzorka skupa podataka\n",
    "df_sample = df.sample(frac=0.1)\n",
    "print('\\nVelicina uzorka: {}'.format(df_sample.size))"
   ]
  },
  {
   "cell_type": "markdown",
   "id": "b08dc533",
   "metadata": {},
   "source": [
    "\n",
    "Odabir atributa (vrlo vazno)\n",
    "\n",
    "Odabir atributa moze biti vrlo bitan korak u koraku pripreme podataka jer dimenzionalnost podataka moze biti visoka.\n",
    "\n",
    "Smanjivanje dimenzionalnosti moze doprineti boljem ponasanju algoritama masinskoug ucenja, te je korisno izostaviti neke atribute. Prica oko odabira atributa je vrlo opsirna u samoj oblasti i u okviru ovog kursa joj necemo posvetiti previse paznje, ali treba imati u vidu da veliki broj atributa u podacima moze doprineti losijem ponasanju algoritama.\n"
   ]
  },
  {
   "cell_type": "code",
   "execution_count": null,
   "id": "a3d00c22",
   "metadata": {},
   "outputs": [],
   "source": [
    "df[['sepal_length', 'sepal_width']].head()"
   ]
  },
  {
   "cell_type": "markdown",
   "id": "8d4ae58e",
   "metadata": {},
   "source": [
    "Zelimo da podatke podelimo na vektore X i y, odnsono da izvrsimo odabir atributa i izdvojimo ciljnu promenljivu.\n",
    "\n",
    "Za atribute uzimamo prva 4 atributa u podacima.\n",
    "\n",
    "Funkciju iloc se koristi za odabir vrsti/kolona koristeci indeksiranje brojevima. : kao prva koordinata oznacava da se uzmu sve vrste. 0:4 oznacava da se uzmu prva 4 elemente"
   ]
  },
  {
   "cell_type": "code",
   "execution_count": null,
   "id": "ded1422d",
   "metadata": {},
   "outputs": [],
   "source": [
    "X = df.iloc[:, :4]\n",
    "X.head()"
   ]
  },
  {
   "cell_type": "code",
   "execution_count": null,
   "id": "98ddc92b",
   "metadata": {},
   "outputs": [],
   "source": [
    "X_tmp = df.loc[:, ['sepal_length', 'sepal_width', 'petal_length', 'petal_width']]\n",
    "X_tmp.head()"
   ]
  },
  {
   "cell_type": "markdown",
   "id": "d78b2f27",
   "metadata": {},
   "source": [
    "Kraca sintaksa:"
   ]
  },
  {
   "cell_type": "code",
   "execution_count": null,
   "id": "7b3ec797",
   "metadata": {},
   "outputs": [],
   "source": [
    "X_tmp = df[['sepal_length', 'sepal_width', 'petal_length', 'petal_width']]\n",
    "X_tmp.head()"
   ]
  },
  {
   "cell_type": "markdown",
   "id": "49cec447",
   "metadata": {},
   "source": [
    "Vrsimo odabir ciljne promenljive:"
   ]
  },
  {
   "cell_type": "code",
   "execution_count": null,
   "id": "403ecc51",
   "metadata": {},
   "outputs": [],
   "source": [
    "y = df['species']\n",
    "y.head()"
   ]
  },
  {
   "cell_type": "code",
   "execution_count": null,
   "id": "d2e0a4cb",
   "metadata": {},
   "outputs": [],
   "source": [
    "# Ili\n",
    "y = df[['species']]\n",
    "y.head()"
   ]
  },
  {
   "cell_type": "markdown",
   "id": "f4f959f5",
   "metadata": {},
   "source": [
    "Razlika izmedju [species] i [[species]] je u povratnoj vrednosti. Prva varijanta vraca pandas.Series objekat, a druga varijanta vraca pandas.DataFrame objekat - pandas varijantu tabelarnih podataka.\n",
    "\n",
    "Mozete zamisljati da je pandas.DataFrame u stvari tabelarna kolekcija pandas.Series objekata.\n",
    "\n",
    "Pretpostavimo da smo primenom neke metode zakljucili da su nam bitni samo atributi sepal_length i sepal_width, a da ostala dva mozemo izostaviti."
   ]
  },
  {
   "cell_type": "code",
   "execution_count": null,
   "id": "796de34b",
   "metadata": {},
   "outputs": [],
   "source": [
    "X = df[['sepal_length', 'sepal_width']]             # nacin 1\n",
    "X = df.iloc[:, :2]                                  # nacin 2\n",
    "print(X.head())"
   ]
  },
  {
   "cell_type": "code",
   "execution_count": null,
   "id": "504cbd6b",
   "metadata": {},
   "outputs": [],
   "source": [
    "import matplotlib.pyplot as plt\n",
    "petal_length = df[['petal_length']]\n",
    "sepal_length = df[['sepal_length']]\n",
    "species_categories = pd.Categorical(df['species'])\n",
    "plt.scatter(petal_length, sepal_length, c=species_categories.codes)\n",
    "plt.show()"
   ]
  },
  {
   "cell_type": "code",
   "execution_count": null,
   "id": "74d1b177",
   "metadata": {},
   "outputs": [],
   "source": [
    "from itertools import combinations\n",
    "\n",
    "species_categories = pd.Categorical(df['species'])\n",
    "\n",
    "attributes = df.columns[:-1]\n",
    "all_attribute_combinations = [attr_pair for attr_pair in combinations(attributes, 2)]\n",
    "n = len(all_attribute_combinations) // 2\n",
    "fig, axs = plt.subplots(n, 2, figsize=(15,20))\n",
    "\n",
    "for i, ax in enumerate(fig.axes):\n",
    "    attr_comb = all_attribute_combinations[i]\n",
    "    \n",
    "    petal_length = df[[attr_comb[0]]]\n",
    "    sepal_length = df[[attr_comb[1]]]\n",
    "    \n",
    "    ax.scatter(petal_length, sepal_length, \n",
    "               c=species_categories.codes)\n",
    "    ax.set_xlabel(attr_comb[0])\n",
    "    ax.set_ylabel(attr_comb[1])\n",
    "\n",
    "plt.show()"
   ]
  }
 ],
 "metadata": {
  "kernelspec": {
   "display_name": "Python 3 (ipykernel)",
   "language": "python",
   "name": "python3"
  },
  "language_info": {
   "codemirror_mode": {
    "name": "ipython",
    "version": 3
   },
   "file_extension": ".py",
   "mimetype": "text/x-python",
   "name": "python",
   "nbconvert_exporter": "python",
   "pygments_lexer": "ipython3",
   "version": "3.8.10"
  }
 },
 "nbformat": 4,
 "nbformat_minor": 5
}
