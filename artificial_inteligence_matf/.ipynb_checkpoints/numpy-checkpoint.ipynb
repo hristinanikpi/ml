{
 "cells": [
  {
   "cell_type": "code",
   "execution_count": 1,
   "id": "28fb0d49",
   "metadata": {},
   "outputs": [],
   "source": [
    "import numpy as np"
   ]
  },
  {
   "cell_type": "markdown",
   "id": "2f55bd3a",
   "metadata": {},
   "source": [
    "Kreiranje nizova"
   ]
  },
  {
   "cell_type": "code",
   "execution_count": 2,
   "id": "ff50d3ab",
   "metadata": {},
   "outputs": [
    {
     "name": "stdout",
     "output_type": "stream",
     "text": [
      "[1 2 3]\n",
      "(3,)\n"
     ]
    }
   ],
   "source": [
    "# Pravimo niz duzine 3\n",
    "a = np.array([1, 2, 3])\n",
    "print(a)\n",
    "print(a.shape)"
   ]
  },
  {
   "cell_type": "code",
   "execution_count": 3,
   "id": "715df644",
   "metadata": {},
   "outputs": [
    {
     "name": "stdout",
     "output_type": "stream",
     "text": [
      "<class 'numpy.ndarray'>\n"
     ]
    }
   ],
   "source": [
    "# Prikazujemo tip objekta na standardni izlaz\n",
    "print(type(a))        "
   ]
  },
  {
   "cell_type": "code",
   "execution_count": 4,
   "id": "0b7d7d8c",
   "metadata": {},
   "outputs": [
    {
     "name": "stdout",
     "output_type": "stream",
     "text": [
      "a.shape (3,)\n",
      "a.shape (3,)\n"
     ]
    }
   ],
   "source": [
    "# \"(3,)\" (nedostatak drugog indeksa oznacava da je u pitanju niz)\n",
    "print('a.shape', a.shape)\n",
    "print(f'a.shape {a.shape}')"
   ]
  },
  {
   "cell_type": "code",
   "execution_count": 5,
   "id": "c5c8f396",
   "metadata": {},
   "outputs": [
    {
     "name": "stdout",
     "output_type": "stream",
     "text": [
      "1 2 3\n"
     ]
    }
   ],
   "source": [
    "# \"1 2 3\" <- indeksiranje\n",
    "print(a[0], a[1], a[2])"
   ]
  },
  {
   "cell_type": "code",
   "execution_count": 6,
   "id": "1e00b7b3",
   "metadata": {},
   "outputs": [
    {
     "name": "stdout",
     "output_type": "stream",
     "text": [
      "[5 2 3]\n"
     ]
    }
   ],
   "source": [
    "# Menjanje elementa nizu\n",
    "a[0] = 5\n",
    "print(a)"
   ]
  },
  {
   "cell_type": "code",
   "execution_count": 7,
   "id": "bfd82666",
   "metadata": {},
   "outputs": [
    {
     "name": "stdout",
     "output_type": "stream",
     "text": [
      "(2, 3)\n",
      "1 2 4\n",
      "1 2 4\n"
     ]
    }
   ],
   "source": [
    "# Pravimo visedimenzioni niz dimenzija (2, 3)\n",
    "b = np.array([[1,2,3],[4,5,6]])\n",
    "\n",
    "# \"(2, 3)\" <- 2 vrste, 3 kolone\n",
    "print(b.shape)                      \n",
    "print(b[0, 0], b[0, 1], b[1, 0])\n",
    "print(b[0][0], b[0][1], b[1][0])\n",
    "\n",
    "# Preporuka je koristiti [i, j] umesto [i][j]."
   ]
  },
  {
   "cell_type": "markdown",
   "id": "9c3f912d",
   "metadata": {},
   "source": [
    "Inicijalizacija nizova"
   ]
  },
  {
   "cell_type": "code",
   "execution_count": 9,
   "id": "d05b9e59",
   "metadata": {},
   "outputs": [
    {
     "name": "stdout",
     "output_type": "stream",
     "text": [
      "[[0. 0.]\n",
      " [0. 0.]]\n",
      "[[1. 1.]]\n",
      "[[7 7]\n",
      " [7 7]]\n",
      "[[1. 0.]\n",
      " [0. 1.]]\n",
      "[[0.37454012 0.95071431]\n",
      " [0.73199394 0.59865848]]\n"
     ]
    }
   ],
   "source": [
    "a = np.zeros((2,2))                 # Pravi se matrica dimenzija (2, 2) ciji su elementi 0\n",
    "print(a)                            # \"[[ 0.  0.]\n",
    "                                    #   [ 0.  0.]]\"\n",
    "\n",
    "b = np.ones((1,2))                  # Pravi se matrica dimenzija (1, 2) ciji su elementi 1\n",
    "print(b)                            # \"[[ 1.  1.]]\"\n",
    "\n",
    "c = np.full((2,2), 7)               # Pravi se matrica dimenzija (2, 2) ciji su elementi 7\n",
    "print(c)                            # \"[[ 7.  7.]\n",
    "                                    #   [ 7.  7.]]\"\n",
    "\n",
    "d = np.eye(2)                       # Pravi se jedinicna matrica dimenzija (2, 2)\n",
    "print(d)                            # \"[[ 1.  0.]\n",
    "                                    #   [ 0.  1.]]\"\n",
    "\n",
    "np.random.seed(42)                  # Postavljamo seed ukoliko zelimo da mozemo reprodukovati pseudoslucajne brojeve\n",
    "e = np.random.random((2,2))         # Pravi se matrica dimenzija (2, 2) cije su vrednosti iz uniformne raspodele [0, 1]\n",
    "print(e)                            # \"[[0.37454012 0.95071431]"
   ]
  },
  {
   "cell_type": "markdown",
   "id": "daf3bf64",
   "metadata": {},
   "source": [
    "Indeksiranje nizova"
   ]
  },
  {
   "cell_type": "code",
   "execution_count": 10,
   "id": "926d0919",
   "metadata": {},
   "outputs": [
    {
     "name": "stdout",
     "output_type": "stream",
     "text": [
      "a = \n",
      "[[ 1  2  3  4]\n",
      " [ 5  6  7  8]\n",
      " [ 9 10 11 12]]\n",
      "\n",
      "a[:2, 1:3] = b = \n",
      "[[2 3]\n",
      " [6 7]]\n",
      "2\n",
      "77\n"
     ]
    }
   ],
   "source": [
    "# Pravimo matricu dimenzija (3, 4)\n",
    "# [[ 1  2  3  4]\n",
    "#  [ 5  6  7  8]\n",
    "#  [ 9 10 11 12]]\n",
    "a = np.array([[1, 2, 3, 4],  [5, 6, 7, 8],  [9, 10, 11, 12]])\n",
    "print(\"a = \\n{}\".format(a))\n",
    "\n",
    "# Koristimo odsecanje (eng. slicing) da uzmemo podniz koji se\n",
    "# sastoji od prve dve vrste, pri cemu uzimamo kolone 1 i 2.\n",
    "# Time dobijamo podniz dimenzija (2, 2).\n",
    "# [[2 3]\n",
    "#  [6 7]]\n",
    "b = a[:2, 1:3]\n",
    "print(\"\\na[:2, 1:3] = b = \\n{}\".format(b))\n",
    "\n",
    "# Odsecanje ne pravi novi niz vec daje 'pogled' na originalni, tako\n",
    "# da ukoliko menjamo dobijeni podniz, menjamo i originalni.\n",
    "print(a[0, 1])   # \"2\"\n",
    "b[0, 0] = 77     # b[0, 0] is the same piece of data as a[0, 1]\n",
    "print(a[0, 1])   # \"77\""
   ]
  },
  {
   "cell_type": "code",
   "execution_count": 11,
   "id": "d9be8208",
   "metadata": {},
   "outputs": [
    {
     "name": "stdout",
     "output_type": "stream",
     "text": [
      "[[1000    3]\n",
      " [   6    7]]\n",
      "[[ 1 77  3  4]\n",
      " [ 5  6  7  8]\n",
      " [ 9 10 11 12]]\n"
     ]
    }
   ],
   "source": [
    "slice_copy = a[:2, 1:3].copy()\n",
    "slice_copy[0,0] = 1000\n",
    "print(slice_copy)\n",
    "print(a)"
   ]
  },
  {
   "cell_type": "markdown",
   "id": "a70199ea",
   "metadata": {},
   "source": [
    "Racun nad nizovima"
   ]
  },
  {
   "cell_type": "code",
   "execution_count": 12,
   "id": "e3338f54",
   "metadata": {},
   "outputs": [
    {
     "name": "stdout",
     "output_type": "stream",
     "text": [
      "x\n",
      "[[1. 2.]\n",
      " [3. 4.]]\n",
      "y\n",
      "[[1. 2.]\n",
      " [3. 4.]]\n",
      "\n"
     ]
    }
   ],
   "source": [
    "x = np.array([[1, 2], [3, 4]], dtype=np.float64)\n",
    "y = np.array([[5, 6], [7, 8]], dtype=np.float64)\n",
    "print('x\\n{}'.format(x))\n",
    "print('y\\n{}\\n'.format(x))"
   ]
  },
  {
   "cell_type": "code",
   "execution_count": 13,
   "id": "f1c2eb54",
   "metadata": {},
   "outputs": [
    {
     "name": "stdout",
     "output_type": "stream",
     "text": [
      "x + y\n",
      "[[ 6.  8.]\n",
      " [10. 12.]]\n",
      "np.add(x, y)\n",
      "[[ 6.  8.]\n",
      " [10. 12.]]\n",
      "\n"
     ]
    }
   ],
   "source": [
    "# Pokoordinatno sabiranje\n",
    "# [[ 6.0  8.0]\n",
    "#  [10.0 12.0]]\n",
    "print('x + y\\n{}'.format(x + y))\n",
    "print('np.add(x, y)\\n{}\\n'.format(np.add(x, y)))"
   ]
  },
  {
   "cell_type": "code",
   "execution_count": 14,
   "id": "687e42d6",
   "metadata": {},
   "outputs": [
    {
     "name": "stdout",
     "output_type": "stream",
     "text": [
      "x - y\n",
      "[[-4. -4.]\n",
      " [-4. -4.]]\n",
      "np.subtract(x, y)\n",
      "[[-4. -4.]\n",
      " [-4. -4.]]\n",
      "\n"
     ]
    }
   ],
   "source": [
    "# Pokoordinatno oduzimanje\n",
    "# [[-4.0 -4.0]\n",
    "#  [-4.0 -4.0]]\n",
    "print('x - y\\n{}'.format(x - y))\n",
    "print('np.subtract(x, y)\\n{}\\n'.format(np.subtract(x, y)))"
   ]
  },
  {
   "cell_type": "code",
   "execution_count": 15,
   "id": "a72832ba",
   "metadata": {},
   "outputs": [
    {
     "name": "stdout",
     "output_type": "stream",
     "text": [
      "x * y\n",
      "[[ 5. 12.]\n",
      " [21. 32.]]\n",
      "np.multiply(x, y)\n",
      "[[ 5. 12.]\n",
      " [21. 32.]]\n",
      "\n"
     ]
    }
   ],
   "source": [
    "# Pokoordinatno mnozenje\n",
    "# [[ 5.0 12.0]\n",
    "#  [21.0 32.0]]\n",
    "print('x * y\\n{}'.format(x * y))\n",
    "print('np.multiply(x, y)\\n{}\\n'.format(np.multiply(x, y)))"
   ]
  },
  {
   "cell_type": "code",
   "execution_count": 16,
   "id": "7341f509",
   "metadata": {},
   "outputs": [
    {
     "name": "stdout",
     "output_type": "stream",
     "text": [
      "x / y\n",
      "[[0.2        0.33333333]\n",
      " [0.42857143 0.5       ]]\n",
      "np.divide(x, y)\n",
      "[[0.2        0.33333333]\n",
      " [0.42857143 0.5       ]]\n",
      "\n"
     ]
    }
   ],
   "source": [
    "# Pokoordinatno deljenje\n",
    "# [[ 0.2         0.33333333]\n",
    "#  [ 0.42857143  0.5       ]]\n",
    "print('x / y\\n{}'.format(x / y))\n",
    "print('np.divide(x, y)\\n{}\\n'.format(np.divide(x, y)))"
   ]
  },
  {
   "cell_type": "code",
   "execution_count": 17,
   "id": "87905198",
   "metadata": {},
   "outputs": [
    {
     "name": "stdout",
     "output_type": "stream",
     "text": [
      "np.sqrt(x)\n",
      "[[1.         1.41421356]\n",
      " [1.73205081 2.        ]]\n",
      "\n"
     ]
    }
   ],
   "source": [
    "# Pokoordinatno izracunavanje funkcije 'sqrt'\n",
    "# [[ 1.          1.41421356]\n",
    "#  [ 1.73205081  2.        ]]\n",
    "print('np.sqrt(x)\\n{}\\n'.format(np.sqrt(x)))"
   ]
  },
  {
   "cell_type": "code",
   "execution_count": 18,
   "id": "03b7042d",
   "metadata": {},
   "outputs": [
    {
     "name": "stdout",
     "output_type": "stream",
     "text": [
      "x.dot(y)\n",
      "[[19 22]\n",
      " [43 50]]\n",
      "np.dot(x, y)\n",
      "[[19 22]\n",
      " [43 50]]\n",
      "\n"
     ]
    }
   ],
   "source": [
    "# Matricno mnozenje se izvodi funkcijom 'dot',\n",
    "# i treba biti pazljiv, * izvodi pokoordinatno mnozenje a ne matricno.\n",
    "x = np.array([[1, 2], [3, 4]])\n",
    "y = np.array([[5, 6], [7, 8]])\n",
    "# Matricno mnozenje; proizvodi matricu (2, 2)\n",
    "# [[19 22]\n",
    "#  [43 50]]\n",
    "print('x.dot(y)\\n{}'.format(x.dot(y)))\n",
    "print('np.dot(x, y)\\n{}\\n'.format(np.dot(x, y)))"
   ]
  },
  {
   "cell_type": "code",
   "execution_count": 19,
   "id": "fa0d6d16",
   "metadata": {},
   "outputs": [
    {
     "name": "stdout",
     "output_type": "stream",
     "text": [
      "v.dot(w)\n",
      "219\n",
      "np.dot(v, w)\n",
      "219\n"
     ]
    }
   ],
   "source": [
    "# 'dot' se moze koristiti i za skalarni proizvod\n",
    "v = np.array([9,10])\n",
    "w = np.array([11, 12])\n",
    "# \"219\"\n",
    "print('v.dot(w)\\n{}'.format(v.dot(w)))\n",
    "print('np.dot(v, w)\\n{}'.format(np.dot(v, w)))"
   ]
  },
  {
   "cell_type": "code",
   "execution_count": 20,
   "id": "c3063a18",
   "metadata": {},
   "outputs": [],
   "source": [
    "# Ax = b\n",
    "A = np.array([\n",
    "    [2,0],\n",
    "    [0,2]\n",
    "])\n",
    "b = np.array([3.4, 7.8])"
   ]
  },
  {
   "cell_type": "code",
   "execution_count": 21,
   "id": "284a3b38",
   "metadata": {},
   "outputs": [
    {
     "data": {
      "text/plain": [
       "array([[0.5, 0. ],\n",
       "       [0. , 0.5]])"
      ]
     },
     "execution_count": 21,
     "metadata": {},
     "output_type": "execute_result"
    }
   ],
   "source": [
    "A_inv = np.linalg.inv(A)\n",
    "A_inv"
   ]
  },
  {
   "cell_type": "code",
   "execution_count": 22,
   "id": "cfc85aa4",
   "metadata": {},
   "outputs": [
    {
     "data": {
      "text/plain": [
       "array([1.7, 3.9])"
      ]
     },
     "execution_count": 22,
     "metadata": {},
     "output_type": "execute_result"
    }
   ],
   "source": [
    "x = A_inv.dot(b)\n",
    "x"
   ]
  },
  {
   "cell_type": "code",
   "execution_count": 23,
   "id": "59717972",
   "metadata": {},
   "outputs": [
    {
     "data": {
      "text/plain": [
       "array([3.4, 7.8])"
      ]
     },
     "execution_count": 23,
     "metadata": {},
     "output_type": "execute_result"
    }
   ],
   "source": [
    "A.dot(x)"
   ]
  }
 ],
 "metadata": {
  "kernelspec": {
   "display_name": "Python 3 (ipykernel)",
   "language": "python",
   "name": "python3"
  },
  "language_info": {
   "codemirror_mode": {
    "name": "ipython",
    "version": 3
   },
   "file_extension": ".py",
   "mimetype": "text/x-python",
   "name": "python",
   "nbconvert_exporter": "python",
   "pygments_lexer": "ipython3",
   "version": "3.8.10"
  }
 },
 "nbformat": 4,
 "nbformat_minor": 5
}
