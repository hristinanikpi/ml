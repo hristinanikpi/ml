{
 "cells": [
  {
   "cell_type": "markdown",
   "metadata": {},
   "source": [
    "Ispis podataka"
   ]
  },
  {
   "cell_type": "code",
   "execution_count": 1,
   "metadata": {},
   "outputs": [
    {
     "name": "stdout",
     "output_type": "stream",
     "text": [
      "10\n"
     ]
    }
   ],
   "source": [
    "print(10)"
   ]
  },
  {
   "cell_type": "code",
   "execution_count": 2,
   "metadata": {},
   "outputs": [
    {
     "name": "stdout",
     "output_type": "stream",
     "text": [
      "NISKA\n"
     ]
    }
   ],
   "source": [
    "print(\"NISKA\")"
   ]
  },
  {
   "cell_type": "code",
   "execution_count": 3,
   "metadata": {},
   "outputs": [
    {
     "name": "stdout",
     "output_type": "stream",
     "text": [
      "10\n"
     ]
    }
   ],
   "source": [
    "a = 10\n",
    "print(10)"
   ]
  },
  {
   "cell_type": "markdown",
   "metadata": {},
   "source": [
    "Ucitavanje podataka sa standardnog ulaza"
   ]
  },
  {
   "cell_type": "code",
   "execution_count": 1,
   "metadata": {},
   "outputs": [
    {
     "name": "stdout",
     "output_type": "stream",
     "text": [
      "5\n",
      "5\n"
     ]
    }
   ],
   "source": [
    "a = input()\n",
    "print(a)"
   ]
  },
  {
   "cell_type": "code",
   "execution_count": 2,
   "metadata": {},
   "outputs": [
    {
     "name": "stdout",
     "output_type": "stream",
     "text": [
      "Unesite vrednost n: 5\n"
     ]
    }
   ],
   "source": [
    "n = input('Unesite vrednost n: ')"
   ]
  },
  {
   "cell_type": "markdown",
   "metadata": {},
   "source": [
    "Formatiran ispis"
   ]
  },
  {
   "cell_type": "code",
   "execution_count": 3,
   "metadata": {},
   "outputs": [
    {
     "name": "stdout",
     "output_type": "stream",
     "text": [
      "Vrednost promenljive n je 10\n"
     ]
    }
   ],
   "source": [
    "n = 10\n",
    "print('Vrednost promenljive n je {}'.format(n))"
   ]
  },
  {
   "cell_type": "code",
   "execution_count": 4,
   "metadata": {},
   "outputs": [
    {
     "name": "stdout",
     "output_type": "stream",
     "text": [
      "a = 5, b = 6\n"
     ]
    }
   ],
   "source": [
    "a = 5\n",
    "b = 6\n",
    "print('a = {}, b = {}'.format(a, b))"
   ]
  },
  {
   "cell_type": "markdown",
   "metadata": {},
   "source": [
    "Obrada izuzetaka"
   ]
  },
  {
   "cell_type": "code",
   "execution_count": 7,
   "metadata": {},
   "outputs": [
    {
     "name": "stdout",
     "output_type": "stream",
     "text": [
      "abc\n",
      "Neispravna vrednost\n"
     ]
    }
   ],
   "source": [
    "try:\n",
    "    a = int(input())\n",
    "    print(a)\n",
    "except:\n",
    "    print('Neispravna vrednost')"
   ]
  },
  {
   "cell_type": "markdown",
   "metadata": {},
   "source": [
    "Ucitavanje podataka iz datoteke"
   ]
  },
  {
   "cell_type": "code",
   "execution_count": 8,
   "metadata": {},
   "outputs": [
    {
     "ename": "FileNotFoundError",
     "evalue": "[Errno 2] No such file or directory: 'ulaz.txt'",
     "output_type": "error",
     "traceback": [
      "\u001b[0;31m---------------------------------------------------------------------------\u001b[0m",
      "\u001b[0;31mFileNotFoundError\u001b[0m                         Traceback (most recent call last)",
      "Input \u001b[0;32mIn [8]\u001b[0m, in \u001b[0;36m<cell line: 1>\u001b[0;34m()\u001b[0m\n\u001b[0;32m----> 1\u001b[0m ulazni_fajl \u001b[38;5;241m=\u001b[39m \u001b[38;5;28;43mopen\u001b[39;49m\u001b[43m(\u001b[49m\u001b[38;5;124;43m'\u001b[39;49m\u001b[38;5;124;43mulaz.txt\u001b[39;49m\u001b[38;5;124;43m'\u001b[39;49m\u001b[43m,\u001b[49m\u001b[43m \u001b[49m\u001b[38;5;124;43m'\u001b[39;49m\u001b[38;5;124;43mr\u001b[39;49m\u001b[38;5;124;43m'\u001b[39;49m\u001b[43m)\u001b[49m\n\u001b[1;32m      2\u001b[0m sadrzaj_datoteke \u001b[38;5;241m=\u001b[39m ulazni_fajl\u001b[38;5;241m.\u001b[39mread()\n\u001b[1;32m      3\u001b[0m \u001b[38;5;28mprint\u001b[39m(sadrzaj_datoteke)\n",
      "\u001b[0;31mFileNotFoundError\u001b[0m: [Errno 2] No such file or directory: 'ulaz.txt'"
     ]
    }
   ],
   "source": [
    "ulazni_fajl = open('ulaz.txt', 'r')\n",
    "sadrzaj_datoteke = ulazni_fajl.read()\n",
    "print(sadrzaj_datoteke)"
   ]
  },
  {
   "cell_type": "code",
   "execution_count": 9,
   "metadata": {},
   "outputs": [
    {
     "name": "stdout",
     "output_type": "stream",
     "text": [
      "Greska prilikom ucitavanja datoteke!\n"
     ]
    }
   ],
   "source": [
    "try:\n",
    "    ulazni_fajl = open('nepostojeca_datoteka.txt', 'r')\n",
    "    sadrzaj_datoteke = ulazni_fajl.read()\n",
    "    print(sadrzaj_datoteke)\n",
    "except:\n",
    "    print('Greska prilikom ucitavanja datoteke!')"
   ]
  },
  {
   "cell_type": "markdown",
   "metadata": {},
   "source": [
    "Ispis podataka u datoteku"
   ]
  },
  {
   "cell_type": "code",
   "execution_count": 10,
   "metadata": {},
   "outputs": [],
   "source": [
    "try:\n",
    "    izlazni_fajl = open('izlaz.txt', 'w')\n",
    "    izlazni_fajl.write('Ovo je sadrzaj izlazne datoteke')\n",
    "except:\n",
    "    print('Doslo je do greske!')"
   ]
  },
  {
   "cell_type": "markdown",
   "metadata": {},
   "source": [
    "If-else, for, while"
   ]
  },
  {
   "cell_type": "code",
   "execution_count": 11,
   "metadata": {},
   "outputs": [
    {
     "name": "stdout",
     "output_type": "stream",
     "text": [
      "Unesite vrednost celog broja a:10\n",
      "Broj a daje ostatak 1 pri deljenju sa brojem 3\n"
     ]
    }
   ],
   "source": [
    "try:\n",
    "    a = int(input('Unesite vrednost celog broja a:'))\n",
    "    if a % 3 == 0:\n",
    "        print('Broj a je deljiv brojem 3')\n",
    "    elif a % 3 == 1:\n",
    "        print('Broj a daje ostatak 1 pri deljenju sa brojem 3')\n",
    "    else:\n",
    "        print('Broj a daje ostatak 2 pri deljenju sa brojem 3')\n",
    "except:\n",
    "    print('Neispravna vrednost broja a!')"
   ]
  },
  {
   "cell_type": "code",
   "execution_count": 12,
   "metadata": {},
   "outputs": [
    {
     "name": "stdout",
     "output_type": "stream",
     "text": [
      "Godina 2000 je prestupna\n"
     ]
    }
   ],
   "source": [
    "godina = 2000\n",
    "if (godina % 4 == 0 and godina % 100 != 0) or (godina % 400 == 0):\n",
    "    print('Godina {} je prestupna'.format(godina))\n",
    "else:\n",
    "    print('Godina {} je prosta'.format(godina))"
   ]
  },
  {
   "cell_type": "code",
   "execution_count": 13,
   "metadata": {},
   "outputs": [
    {
     "name": "stdout",
     "output_type": "stream",
     "text": [
      "0\n",
      "1\n",
      "2\n",
      "3\n",
      "4\n"
     ]
    }
   ],
   "source": [
    "for i in range(0,5): # C-ovski: for(i = 0; i < 5; i++)\n",
    "    print(i)"
   ]
  },
  {
   "cell_type": "code",
   "execution_count": 14,
   "metadata": {},
   "outputs": [
    {
     "name": "stdout",
     "output_type": "stream",
     "text": [
      "0\n",
      "1\n",
      "2\n",
      "3\n",
      "4\n"
     ]
    }
   ],
   "source": [
    "i = 0\n",
    "while i < 5:\n",
    "    print(i)\n",
    "    i += 1 # operator ++ nije podrzan"
   ]
  },
  {
   "cell_type": "markdown",
   "metadata": {},
   "source": [
    "Liste"
   ]
  },
  {
   "cell_type": "code",
   "execution_count": 15,
   "metadata": {},
   "outputs": [
    {
     "name": "stdout",
     "output_type": "stream",
     "text": [
      "[1, 2, 3, 4]\n"
     ]
    }
   ],
   "source": [
    "lista = [1, 2, 3, 4]\n",
    "print(lista)"
   ]
  },
  {
   "cell_type": "code",
   "execution_count": 16,
   "metadata": {},
   "outputs": [
    {
     "name": "stdout",
     "output_type": "stream",
     "text": [
      "Duzina liste je: 4\n"
     ]
    }
   ],
   "source": [
    "lista = [1, 2, 3, 4]\n",
    "n = len(lista)\n",
    "print('Duzina liste je: {}'.format(n))"
   ]
  },
  {
   "cell_type": "markdown",
   "metadata": {},
   "source": [
    "Iteracija kroz listu po elementima (foreach petlja)"
   ]
  },
  {
   "cell_type": "code",
   "execution_count": 17,
   "metadata": {},
   "outputs": [
    {
     "name": "stdout",
     "output_type": "stream",
     "text": [
      "1\n",
      "2\n",
      "3\n",
      "4\n"
     ]
    }
   ],
   "source": [
    "lista = [1, 2, 3, 4]\n",
    "n = len(lista)\n",
    "\n",
    "for element in lista: # foreach\n",
    "    print(element)"
   ]
  },
  {
   "cell_type": "markdown",
   "metadata": {},
   "source": [
    "List comprehension"
   ]
  },
  {
   "cell_type": "code",
   "execution_count": 19,
   "metadata": {},
   "outputs": [
    {
     "name": "stdout",
     "output_type": "stream",
     "text": [
      "[1, 25, 4, 16, 9]\n"
     ]
    }
   ],
   "source": [
    "lista = [1, 5, 2, 4, 3]\n",
    "kvadrirana = [x**2 for x in lista] # ** - stepen\n",
    "print(kvadrirana)"
   ]
  },
  {
   "cell_type": "code",
   "execution_count": 20,
   "metadata": {},
   "outputs": [
    {
     "name": "stdout",
     "output_type": "stream",
     "text": [
      "[1, 3, 5]\n"
     ]
    }
   ],
   "source": [
    "lista = [1, 2, 3, 4, 5]\n",
    "neparni = [x for x in lista if x % 2 == 1]\n",
    "print(neparni)"
   ]
  },
  {
   "cell_type": "markdown",
   "metadata": {},
   "source": [
    "Zipovanje lista"
   ]
  },
  {
   "cell_type": "code",
   "execution_count": 21,
   "metadata": {},
   "outputs": [
    {
     "name": "stdout",
     "output_type": "stream",
     "text": [
      "<zip object at 0x7f86eded2a40>\n",
      "(1, 'a')\n",
      "(2, 'b')\n",
      "(3, 'c')\n",
      "(4, 'd')\n"
     ]
    }
   ],
   "source": [
    "lista1 = [1, 2, 3, 4]\n",
    "lista2 = ['a', 'b', 'c', 'd']\n",
    "zipovana = zip(lista1, lista2)\n",
    "print(zipovana)\n",
    "\n",
    "for el in zipovana:\n",
    "    print(el)"
   ]
  },
  {
   "cell_type": "markdown",
   "metadata": {},
   "source": [
    "Obrtanje liste"
   ]
  },
  {
   "cell_type": "code",
   "execution_count": 22,
   "metadata": {},
   "outputs": [
    {
     "name": "stdout",
     "output_type": "stream",
     "text": [
      "[5, 4, 3, 2, 1]\n"
     ]
    }
   ],
   "source": [
    "lista = [1, 2, 3, 4, 5]\n",
    "lista.reverse()\n",
    "print(lista)"
   ]
  },
  {
   "cell_type": "markdown",
   "metadata": {},
   "source": [
    "Sortiranje liste"
   ]
  },
  {
   "cell_type": "code",
   "execution_count": 23,
   "metadata": {},
   "outputs": [
    {
     "name": "stdout",
     "output_type": "stream",
     "text": [
      "[1, 2, 3, 4, 5]\n"
     ]
    }
   ],
   "source": [
    "lista = [1, 5, 2, 4, 3]\n",
    "lista.sort()\n",
    "print(lista)"
   ]
  },
  {
   "cell_type": "code",
   "execution_count": 24,
   "metadata": {},
   "outputs": [
    {
     "name": "stdout",
     "output_type": "stream",
     "text": [
      "[5, 4, 3, 2, 1]\n"
     ]
    }
   ],
   "source": [
    "lista = [1, 5, 2, 4, 3]\n",
    "lista.sort(reverse=True)\n",
    "print(lista)"
   ]
  },
  {
   "cell_type": "markdown",
   "metadata": {},
   "source": [
    "Izdvajanje podlisti"
   ]
  },
  {
   "cell_type": "code",
   "execution_count": 25,
   "metadata": {},
   "outputs": [
    {
     "name": "stdout",
     "output_type": "stream",
     "text": [
      "[2, 3]\n"
     ]
    }
   ],
   "source": [
    "lista = [1, 2, 3, 4]\n",
    "print(lista[1:3]) # [1:3)"
   ]
  },
  {
   "cell_type": "code",
   "execution_count": 26,
   "metadata": {},
   "outputs": [
    {
     "name": "stdout",
     "output_type": "stream",
     "text": [
      "[2, 4]\n"
     ]
    }
   ],
   "source": [
    "lista = [1, 2, 3, 4]\n",
    "print(lista[1:4:2]) # 2, (3), 4 "
   ]
  },
  {
   "cell_type": "code",
   "execution_count": 27,
   "metadata": {},
   "outputs": [
    {
     "name": "stdout",
     "output_type": "stream",
     "text": [
      "[1, 2, 3]\n"
     ]
    }
   ],
   "source": [
    "lista = [1, 2, 3, 4] #  -4 -3 -2 -1\n",
    "print(lista[-4:-1])  # [1, 2, 3, 4]"
   ]
  },
  {
   "cell_type": "markdown",
   "metadata": {},
   "source": [
    "Visedimenzioni nizovi"
   ]
  },
  {
   "cell_type": "code",
   "execution_count": 28,
   "metadata": {},
   "outputs": [
    {
     "name": "stdout",
     "output_type": "stream",
     "text": [
      "[[1, 2, 3], [4, 5, 6], [7, 8, 9]]\n"
     ]
    }
   ],
   "source": [
    "matrica = [[1, 2, 3],\n",
    "           [4, 5, 6],\n",
    "           [7, 8, 9]]\n",
    "\n",
    "print(matrica)"
   ]
  },
  {
   "cell_type": "code",
   "execution_count": 29,
   "metadata": {},
   "outputs": [
    {
     "name": "stdout",
     "output_type": "stream",
     "text": [
      "9\n"
     ]
    }
   ],
   "source": [
    "matrica = [[1, 2, 3],\n",
    "           [4, 5, 6],\n",
    "           [7, 8, 9]]\n",
    "\n",
    "print(matrica[2][2])"
   ]
  },
  {
   "cell_type": "markdown",
   "metadata": {},
   "source": [
    "Dodavanje elemenata u listu i konkatenacija listi"
   ]
  },
  {
   "cell_type": "code",
   "execution_count": 30,
   "metadata": {},
   "outputs": [
    {
     "name": "stdout",
     "output_type": "stream",
     "text": [
      "[1, 2, 3, 4, 5]\n"
     ]
    }
   ],
   "source": [
    "lista = [1, 2, 3, 4]\n",
    "lista.append(5) # Dodavanje elementa na kraj liste\n",
    "print(lista)"
   ]
  },
  {
   "cell_type": "code",
   "execution_count": 31,
   "metadata": {},
   "outputs": [
    {
     "name": "stdout",
     "output_type": "stream",
     "text": [
      "[1, 2, 3, 3.4, 4]\n"
     ]
    }
   ],
   "source": [
    "lista = [1, 2, 3, 4]\n",
    "lista.insert(3,3.4) # Dodavanje vrednosti 3.4 na poziciju u listi sa indeksom 3\n",
    "print(lista)"
   ]
  },
  {
   "cell_type": "code",
   "execution_count": 32,
   "metadata": {},
   "outputs": [
    {
     "name": "stdout",
     "output_type": "stream",
     "text": [
      "[1, 2, 3]\n"
     ]
    }
   ],
   "source": [
    "lista = [1, 2, 3, 4]\n",
    "lista.pop() # Uklanjanje elementa sa kraja liste\n",
    "print(lista)"
   ]
  },
  {
   "cell_type": "code",
   "execution_count": 33,
   "metadata": {},
   "outputs": [
    {
     "name": "stdout",
     "output_type": "stream",
     "text": [
      "[1, 2, 3, 4, 5, 6, 7, 8]\n"
     ]
    }
   ],
   "source": [
    "lista1 = [1, 2, 3, 4]\n",
    "lista2 = [5, 6, 7, 8]\n",
    "print(lista1 + lista2) # Konkatenacija listi"
   ]
  },
  {
   "cell_type": "code",
   "execution_count": 34,
   "metadata": {},
   "outputs": [
    {
     "name": "stdout",
     "output_type": "stream",
     "text": [
      "[0, 1, 2, 3, 4]\n"
     ]
    }
   ],
   "source": [
    "element = 0\n",
    "lista = [1, 2, 3, 4]\n",
    "print ([element] + lista) # Dodavanje elementa na pocetak liste pomocu konkatenacije"
   ]
  },
  {
   "cell_type": "code",
   "execution_count": 35,
   "metadata": {},
   "outputs": [
    {
     "name": "stdout",
     "output_type": "stream",
     "text": [
      "[2, 3, 4]\n"
     ]
    }
   ],
   "source": [
    "lista = [1,2,3,4]\n",
    "lista = lista[1:] # Uklanjanje elementa sa pocetka liste izdvajanjem podliste\n",
    "print(lista)"
   ]
  },
  {
   "cell_type": "markdown",
   "metadata": {},
   "source": [
    "Niske"
   ]
  },
  {
   "cell_type": "code",
   "execution_count": 36,
   "metadata": {},
   "outputs": [
    {
     "name": "stdout",
     "output_type": "stream",
     "text": [
      "ABCD\n"
     ]
    }
   ],
   "source": [
    "niska = 'ABCD' # ili \"ABCD\"\n",
    "print(niska)"
   ]
  },
  {
   "cell_type": "code",
   "execution_count": 37,
   "metadata": {},
   "outputs": [
    {
     "name": "stdout",
     "output_type": "stream",
     "text": [
      "ABCDE\n"
     ]
    }
   ],
   "source": [
    "niska = \"ABCD\"\n",
    "print(niska + 'E') # Konkatenacija niski"
   ]
  },
  {
   "cell_type": "code",
   "execution_count": 38,
   "metadata": {},
   "outputs": [
    {
     "name": "stdout",
     "output_type": "stream",
     "text": [
      "A\n",
      "B\n",
      "C\n",
      "D\n",
      "E\n"
     ]
    }
   ],
   "source": [
    "niska = 'ABCDE'\n",
    "\n",
    "for c in niska:\n",
    "    print(c)"
   ]
  },
  {
   "cell_type": "code",
   "execution_count": 39,
   "metadata": {},
   "outputs": [
    {
     "name": "stdout",
     "output_type": "stream",
     "text": [
      "XBCDE\n"
     ]
    }
   ],
   "source": [
    "niska = 'ABCDE'\n",
    "''' <- Ovo su oznake viselinijskih komentara\n",
    "Ne radi \n",
    "niska[0] = 'X'\n",
    "print(niska)\n",
    "'''\n",
    "\n",
    "# Trik za izmenu karaktera niske\n",
    "listaKaraktera = list(niska)\n",
    "listaKaraktera[0] = 'X'\n",
    "niska = ''.join(listaKaraktera)\n",
    "print(niska)"
   ]
  },
  {
   "cell_type": "markdown",
   "metadata": {},
   "source": [
    "Torke"
   ]
  },
  {
   "cell_type": "code",
   "execution_count": 40,
   "metadata": {},
   "outputs": [
    {
     "name": "stdout",
     "output_type": "stream",
     "text": [
      "(1, 2, 3, 4)\n"
     ]
    }
   ],
   "source": [
    "torka = (1, 2, 3, 4)\n",
    "print(torka)"
   ]
  },
  {
   "cell_type": "code",
   "execution_count": 41,
   "metadata": {},
   "outputs": [
    {
     "name": "stdout",
     "output_type": "stream",
     "text": [
      "9\n"
     ]
    }
   ],
   "source": [
    "torka = (7, 3, 9, 2)\n",
    "print(torka[2])"
   ]
  },
  {
   "cell_type": "markdown",
   "metadata": {},
   "source": [
    "Pseudoslucajni brojevi"
   ]
  },
  {
   "cell_type": "code",
   "execution_count": 42,
   "metadata": {},
   "outputs": [
    {
     "name": "stdout",
     "output_type": "stream",
     "text": [
      "0.23666169710478469\n"
     ]
    }
   ],
   "source": [
    "import random\n",
    "x = random.random()\n",
    "print(x)"
   ]
  },
  {
   "cell_type": "code",
   "execution_count": 44,
   "metadata": {},
   "outputs": [
    {
     "name": "stdout",
     "output_type": "stream",
     "text": [
      "7\n"
     ]
    }
   ],
   "source": [
    "import random\n",
    "x = random.randrange(0, 10) # [0, 10)\n",
    "print(x)"
   ]
  },
  {
   "cell_type": "code",
   "execution_count": 45,
   "metadata": {},
   "outputs": [
    {
     "name": "stdout",
     "output_type": "stream",
     "text": [
      "10\n"
     ]
    }
   ],
   "source": [
    "lista = [10, 100, 1000, 10000]\n",
    "izabrani = random.choice(lista)\n",
    "print(izabrani)"
   ]
  },
  {
   "cell_type": "code",
   "execution_count": 46,
   "metadata": {},
   "outputs": [
    {
     "name": "stdout",
     "output_type": "stream",
     "text": [
      "[1000, 10, 10000]\n"
     ]
    }
   ],
   "source": [
    "lista = [10, 100, 1000, 10000]\n",
    "podskup = random.sample(lista, 3)\n",
    "print(podskup)"
   ]
  },
  {
   "cell_type": "code",
   "execution_count": 47,
   "metadata": {},
   "outputs": [
    {
     "name": "stdout",
     "output_type": "stream",
     "text": [
      "{1, 2, 3, 4}\n"
     ]
    }
   ],
   "source": [
    "skup = set([1, 2, 3, 4])\n",
    "print(skup)"
   ]
  },
  {
   "cell_type": "markdown",
   "metadata": {},
   "source": [
    "Mape"
   ]
  },
  {
   "cell_type": "code",
   "execution_count": 48,
   "metadata": {},
   "outputs": [
    {
     "name": "stdout",
     "output_type": "stream",
     "text": [
      "{'a': 1, 'b': 2}\n"
     ]
    }
   ],
   "source": [
    "mapa = {\n",
    "    'a': 1,\n",
    "    'b': 2\n",
    "}\n",
    "\n",
    "print(mapa)"
   ]
  },
  {
   "cell_type": "code",
   "execution_count": 49,
   "metadata": {},
   "outputs": [
    {
     "name": "stdout",
     "output_type": "stream",
     "text": [
      "1\n"
     ]
    }
   ],
   "source": [
    "mapa = {\n",
    "    'a': 1,\n",
    "    'b': 2\n",
    "}\n",
    "\n",
    "print(mapa['a'])"
   ]
  },
  {
   "cell_type": "code",
   "execution_count": 50,
   "metadata": {},
   "outputs": [
    {
     "name": "stdout",
     "output_type": "stream",
     "text": [
      "10\n"
     ]
    }
   ],
   "source": [
    "mapa = {}\n",
    "# ili\n",
    "mapa = dict([])\n",
    "\n",
    "# Dodavanje elemenata u mapu\n",
    "mapa['a'] = 10\n",
    "print(mapa['a'])"
   ]
  },
  {
   "cell_type": "code",
   "execution_count": 51,
   "metadata": {},
   "outputs": [
    {
     "name": "stdout",
     "output_type": "stream",
     "text": [
      "{'b': 2}\n"
     ]
    }
   ],
   "source": [
    "mapa = {\n",
    "    'a': 1,\n",
    "    'b': 2\n",
    "}\n",
    "\n",
    "# Uklanjanje elemenata mape\n",
    "del mapa['a']\n",
    "print(mapa)"
   ]
  },
  {
   "cell_type": "code",
   "execution_count": 53,
   "metadata": {},
   "outputs": [
    {
     "name": "stdout",
     "output_type": "stream",
     "text": [
      "{'v': ['a', 'b', 'c']}\n"
     ]
    }
   ],
   "source": [
    "g = {\n",
    "    'v': ['a','b','c']\n",
    "}\n",
    "\n",
    "print(g)"
   ]
  },
  {
   "cell_type": "code",
   "execution_count": 54,
   "metadata": {},
   "outputs": [
    {
     "name": "stdout",
     "output_type": "stream",
     "text": [
      "a: 1\n",
      "b: 2\n",
      "dict_items([('a', 1), ('b', 2)])\n"
     ]
    }
   ],
   "source": [
    "mapa = {\n",
    "    'a': 1,\n",
    "    'b': 2\n",
    "}\n",
    "\n",
    "# Iteracija kroz elemente mape\n",
    "for (kljuc, vrednost) in mapa.items():\n",
    "    print('{}: {}'.format(kljuc, vrednost))\n",
    "    \n",
    "print(mapa.items())"
   ]
  },
  {
   "cell_type": "code",
   "execution_count": 55,
   "metadata": {},
   "outputs": [
    {
     "name": "stdout",
     "output_type": "stream",
     "text": [
      "2.0\n",
      "3\n",
      "5\n"
     ]
    }
   ],
   "source": [
    "import math\n",
    "\n",
    "print(math.sqrt(4))\n",
    "print(math.ceil(2.3))\n",
    "print(math.floor(5.3))"
   ]
  },
  {
   "cell_type": "markdown",
   "metadata": {},
   "source": [
    "Funkcije"
   ]
  },
  {
   "cell_type": "code",
   "execution_count": 56,
   "metadata": {},
   "outputs": [
    {
     "data": {
      "text/plain": [
       "3"
      ]
     },
     "execution_count": 56,
     "metadata": {},
     "output_type": "execute_result"
    }
   ],
   "source": [
    "def saberi(a, b, c=0):\n",
    "    return a + b + c\n",
    "\n",
    "saberi(1,2)"
   ]
  },
  {
   "cell_type": "code",
   "execution_count": 57,
   "metadata": {},
   "outputs": [
    {
     "name": "stdout",
     "output_type": "stream",
     "text": [
      "6.7 10\n"
     ]
    }
   ],
   "source": [
    "# Funkcija moze vratiti vise argumenata kroz strukturu tuple\n",
    "def minimum_i_maksimum(a, b):\n",
    "    minimum = min(a,b)\n",
    "    maksimum = max(a,b)\n",
    "    return (minimum, maksimum)\n",
    "\n",
    "a = 10\n",
    "b = 6.7\n",
    "\n",
    "(mini, maksi) = minimum_i_maksimum(a, b)\n",
    "print(mini, maksi)"
   ]
  },
  {
   "cell_type": "code",
   "execution_count": 58,
   "metadata": {},
   "outputs": [
    {
     "name": "stdout",
     "output_type": "stream",
     "text": [
      "[1, 3, 5, 7, 9, 11, 13, 15, 17, 19]\n",
      "1 3 5\n"
     ]
    }
   ],
   "source": [
    "# Funkcija moze vratiti niz\n",
    "def niz_neparnih():\n",
    "    return [1, 3, 5, 7, 9, 11, 13, 15, 17, 19]\n",
    "\n",
    "svi_neparni = niz_neparnih()\n",
    "[prvi, drugi, treci] = niz_neparnih()[:3]\n",
    "\n",
    "print(svi_neparni)\n",
    "print(prvi, drugi, treci)"
   ]
  },
  {
   "cell_type": "markdown",
   "metadata": {},
   "source": [
    "Klase i objekti"
   ]
  },
  {
   "cell_type": "code",
   "execution_count": 59,
   "metadata": {},
   "outputs": [
    {
     "name": "stdout",
     "output_type": "stream",
     "text": [
      "Napravljeno je novo vozilo!\n"
     ]
    }
   ],
   "source": [
    "class Vozilo:\n",
    "    def __init__(self): # Konstruktor. Svi metodi klase za prvi argument imaju \"self\", kao referencu na objekat\n",
    "        print('Napravljeno je novo vozilo!')\n",
    "        \n",
    "# Instanciranje objekta klase Vozilo\n",
    "# \"Self\" se pri pozivu ne navodi ni u konstruktoru ni u drugim metodima\n",
    "vozilo1 = Vozilo() "
   ]
  },
  {
   "cell_type": "code",
   "execution_count": 60,
   "metadata": {},
   "outputs": [
    {
     "name": "stdout",
     "output_type": "stream",
     "text": [
      "Napravljeno je novo vozilo sa registarskim brojem BG-123-AB!\n"
     ]
    }
   ],
   "source": [
    "class Vozilo:\n",
    "    def __init__(self, registarski_broj):\n",
    "        print('Napravljeno je novo vozilo sa registarskim brojem {}!'.format(registarski_broj))\n",
    "        self.registarski_broj = registarski_broj # Lokalne promenljive klase se dodeljuju na self\n",
    "        \n",
    "vozilo1 = Vozilo('BG-123-AB')"
   ]
  },
  {
   "cell_type": "code",
   "execution_count": 61,
   "metadata": {},
   "outputs": [
    {
     "name": "stdout",
     "output_type": "stream",
     "text": [
      "Napravljeno je novo vozilo sa registarskim brojem BG-123-AB!\n",
      "Vozilo: BG-123-AB\n"
     ]
    }
   ],
   "source": [
    "class Vozilo:\n",
    "    def __init__(self, registarski_broj):\n",
    "        print('Napravljeno je novo vozilo sa registarskim brojem {}!'.format(registarski_broj))\n",
    "        self.registarski_broj = registarski_broj\n",
    "        \n",
    "    def __str__(self): # Metod vraca nisku koja se ispisuje prilikom ispisa objekta (toString metod u drugim jezicima)\n",
    "        return 'Vozilo: {}'.format(self.registarski_broj)\n",
    "        \n",
    "vozilo1 = Vozilo('BG-123-AB')\n",
    "print(vozilo1)"
   ]
  },
  {
   "cell_type": "code",
   "execution_count": 62,
   "metadata": {},
   "outputs": [
    {
     "name": "stdout",
     "output_type": "stream",
     "text": [
      "Napravljeno je novo vozilo sa registarskim brojem BG-123-AB!\n",
      "Vozilo: BG-123-AB\n",
      "BG-234-BC\n"
     ]
    }
   ],
   "source": [
    "class Vozilo:\n",
    "    def __init__(self, registarski_broj):\n",
    "        print('Napravljeno je novo vozilo sa registarskim brojem {}!'.format(registarski_broj))\n",
    "        self.registarski_broj = registarski_broj\n",
    "        \n",
    "    def __str__(self):\n",
    "        return 'Vozilo: {}'.format(self.registarski_broj)\n",
    "    \n",
    "    def vrati_registarski_broj(self): # Setter\n",
    "        return self.registarski_broj\n",
    "    \n",
    "    def postavi_registarski_broj(self, novi_registarski_broj): # Getter\n",
    "        self.registarski_broj = novi_registarski_broj\n",
    "        \n",
    "vozilo1 = Vozilo('BG-123-AB')\n",
    "print(vozilo1)\n",
    "vozilo1.postavi_registarski_broj('BG-234-BC') # Pozivanje setter-a\n",
    "print(vozilo1.vrati_registarski_broj()) # Pozivanje getter-a"
   ]
  },
  {
   "cell_type": "code",
   "execution_count": 64,
   "metadata": {},
   "outputs": [
    {
     "name": "stdout",
     "output_type": "stream",
     "text": [
      "Napravljeno je novo vozilo sa registarskim brojem BG-123-AB!\n",
      "None\n"
     ]
    }
   ],
   "source": [
    "class Vozilo:\n",
    "    def __init__(self, registarski_broj):\n",
    "        print('Napravljeno je novo vozilo sa registarskim brojem {}!'.format(registarski_broj))\n",
    "        self.registarski_broj = registarski_broj\n",
    "        \n",
    "    def __str__(self):\n",
    "        return 'Vozilo: {}'.format(self.registarski_broj)\n",
    "    \n",
    "    def vrati_registarski_broj(self):\n",
    "        return self.registarski_broj\n",
    "    \n",
    "    def postavi_registarski_broj(self, novi_registarski_broj):\n",
    "        self.registarski_broj = novi_registarski_broj\n",
    "        \n",
    "    # Virtuelni metod\n",
    "    def vrati_tip_vozila(self):\n",
    "        pass\n",
    "        \n",
    "vozilo1 = Vozilo('BG-123-AB')\n",
    "print(vozilo1.vrati_tip_vozila())"
   ]
  },
  {
   "cell_type": "code",
   "execution_count": 65,
   "metadata": {},
   "outputs": [
    {
     "name": "stdout",
     "output_type": "stream",
     "text": [
      "Napravljeno je novo vozilo sa registarskim brojem BG-123-AB!\n",
      "None\n",
      "Napravljeno je novo vozilo sa registarskim brojem BG-234-BC!\n",
      "Automobil\n"
     ]
    }
   ],
   "source": [
    "class Vozilo:\n",
    "    def __init__(self, registarski_broj):\n",
    "        print('Napravljeno je novo vozilo sa registarskim brojem {}!'.format(registarski_broj))\n",
    "        self.registarski_broj = registarski_broj\n",
    "        \n",
    "    def __str__(self):\n",
    "        return 'Vozilo: {}'.format(self.registarski_broj)\n",
    "    \n",
    "    def vrati_registarski_broj(self):\n",
    "        return self.registarski_broj\n",
    "    \n",
    "    def postavi_registarski_broj(self, novi_registarski_broj):\n",
    "        self.registarski_broj = novi_registarski_broj\n",
    "        \n",
    "    # Virt. metod\n",
    "    def vrati_tip_vozila(self):\n",
    "        pass\n",
    "    \n",
    "# Ukoliko klasa nasledjuje drugu klasu, nasledjena klasa se navodi u zagradi pri deklaraciji podklase\n",
    "class Automobil(Vozilo): # Klasa automobil nasledjuje klasu vozilo\n",
    "    def __init__(self, registarski_broj):\n",
    "        super().__init__(registarski_broj)\n",
    "        self.tip_vozila = 'Automobil'\n",
    "        \n",
    "    def vrati_tip_vozila(self):\n",
    "        return self.tip_vozila\n",
    "        \n",
    "vozilo1 = Vozilo('BG-123-AB')\n",
    "print(vozilo1.vrati_tip_vozila())\n",
    "\n",
    "automobil1 = Automobil('BG-234-BC')\n",
    "print(automobil1.vrati_tip_vozila())"
   ]
  },
  {
   "cell_type": "code",
   "execution_count": null,
   "metadata": {},
   "outputs": [],
   "source": []
  },
  {
   "cell_type": "code",
   "execution_count": null,
   "metadata": {},
   "outputs": [],
   "source": []
  },
  {
   "cell_type": "code",
   "execution_count": null,
   "metadata": {},
   "outputs": [],
   "source": []
  }
 ],
 "metadata": {
  "interpreter": {
   "hash": "916dbcbb3f70747c44a77c7bcd40155683ae19c65e1c03b4aa3499c5328201f1"
  },
  "kernelspec": {
   "display_name": "Python 3 (ipykernel)",
   "language": "python",
   "name": "python3"
  },
  "language_info": {
   "codemirror_mode": {
    "name": "ipython",
    "version": 3
   },
   "file_extension": ".py",
   "mimetype": "text/x-python",
   "name": "python",
   "nbconvert_exporter": "python",
   "pygments_lexer": "ipython3",
   "version": "3.8.10"
  }
 },
 "nbformat": 4,
 "nbformat_minor": 2
}
