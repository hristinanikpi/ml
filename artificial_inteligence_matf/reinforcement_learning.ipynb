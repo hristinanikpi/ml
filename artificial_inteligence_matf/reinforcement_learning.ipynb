{
 "cells": [
  {
   "cell_type": "code",
   "execution_count": 1,
   "id": "25d34833",
   "metadata": {},
   "outputs": [],
   "source": [
    "import numpy as np"
   ]
  },
  {
   "cell_type": "markdown",
   "id": "9504a123",
   "metadata": {},
   "source": [
    "Q-iteration"
   ]
  },
  {
   "cell_type": "code",
   "execution_count": 2,
   "id": "e81d88c9",
   "metadata": {},
   "outputs": [],
   "source": [
    "T = [\n",
    "     #a0              #a1              #a2 \n",
    "    [[0.7, 0.3, 0.0], [1.0, 0.0, 0.0], [0.8, 0.2, 0.0]], #s0\n",
    "    [[0.0, 1.0, 0.0], None,            [0.0, 0.0, 1.0]], #s1\n",
    "    [None,            [0.8, 0.1, 0.1], None           ] #s2\n",
    "]"
   ]
  },
  {
   "cell_type": "code",
   "execution_count": 3,
   "id": "db775d23",
   "metadata": {},
   "outputs": [
    {
     "data": {
      "text/plain": [
       "0.0"
      ]
     },
     "execution_count": 3,
     "metadata": {},
     "output_type": "execute_result"
    }
   ],
   "source": [
    "T_s0 = T[0] # Verovatnoce prelaska u druga stanja za sve akcije koje mogu da se preduzmu u stannju s0\n",
    "T_s0_a1 = T_s0[1] # Verovatnoce prelaska u susedna stanja s' akcijom a1\n",
    "T_s0_a1[1] # verotvnoca prelaska iz stanja s0 u stanje s1, akcijom a1"
   ]
  },
  {
   "cell_type": "code",
   "execution_count": 4,
   "id": "26e4d8a3",
   "metadata": {},
   "outputs": [
    {
     "data": {
      "text/plain": [
       "[[[10, 0.0, 0.0], [0, 0, 0], [0, 0, 0]],\n",
       " [[0, 0, 0], [0, 0, 0], [0, 0, -50]],\n",
       " [[0, 0, 0], [40, 0, 0], [0, 0, 0]]]"
      ]
     },
     "execution_count": 4,
     "metadata": {},
     "output_type": "execute_result"
    }
   ],
   "source": [
    "# R(s, a, s') \n",
    "R = [\n",
    "    # a0              #a1          #a2\n",
    "    [[+10, 0.0, 0.0], [0,0,0],     [0,0,0]], # s0\n",
    "    [[0, 0, 0],       [0,0,0],     [0,0,-50]], #s1\n",
    "    [[0, 0, 0],       [+40, 0, 0], [0,0,0]]#s2\n",
    "]\n",
    "R"
   ]
  },
  {
   "cell_type": "code",
   "execution_count": 5,
   "id": "b0229ae8",
   "metadata": {},
   "outputs": [],
   "source": [
    "num_of_states = 3\n",
    "num_of_actions = 3\n",
    "R = np.zeros((num_of_states, num_of_actions, num_of_states))\n",
    "R[0][0][0] = 10\n",
    "R[1][2][2] = -50\n",
    "R[2][1][0] = 40"
   ]
  },
  {
   "cell_type": "code",
   "execution_count": 6,
   "id": "8b5a8ac6",
   "metadata": {},
   "outputs": [
    {
     "data": {
      "text/plain": [
       "array([[[ 10.,   0.,   0.],\n",
       "        [  0.,   0.,   0.],\n",
       "        [  0.,   0.,   0.]],\n",
       "\n",
       "       [[  0.,   0.,   0.],\n",
       "        [  0.,   0.,   0.],\n",
       "        [  0.,   0., -50.]],\n",
       "\n",
       "       [[  0.,   0.,   0.],\n",
       "        [ 40.,   0.,   0.],\n",
       "        [  0.,   0.,   0.]]])"
      ]
     },
     "execution_count": 6,
     "metadata": {},
     "output_type": "execute_result"
    }
   ],
   "source": [
    "R"
   ]
  },
  {
   "cell_type": "markdown",
   "id": "50770f5a",
   "metadata": {},
   "source": [
    "Q-iteration"
   ]
  },
  {
   "cell_type": "code",
   "execution_count": 7,
   "id": "bb8af2b8",
   "metadata": {},
   "outputs": [],
   "source": [
    "possible_actions = [[0,1,2], [0,2], [1]]\n",
    "Q_values = np.full((3,3), -np.inf)\n",
    "for state, actions in enumerate(possible_actions):\n",
    "    Q_values[state, actions] = 0.0"
   ]
  },
  {
   "cell_type": "code",
   "execution_count": 8,
   "id": "7304bb71",
   "metadata": {},
   "outputs": [],
   "source": [
    "gamma = 0.98 # faktor umanjenja"
   ]
  },
  {
   "cell_type": "code",
   "execution_count": 9,
   "id": "8adda5c8",
   "metadata": {},
   "outputs": [
    {
     "name": "stdout",
     "output_type": "stream",
     "text": [
      "[[42.88147586 41.70278262 37.82191144]\n",
      " [22.29842674        -inf 23.08111272]\n",
      " [       -inf 74.90018004        -inf]]\n",
      "[0 2 1]\n"
     ]
    }
   ],
   "source": [
    "num_of_iterations = 50\n",
    "for iteration in range(num_of_iterations):\n",
    "    Q_prev = Q_values.copy()\n",
    "    for s in range(num_of_states):\n",
    "        for a in possible_actions[s]:\n",
    "            Q_values[s, a] = np.sum([\n",
    "                T[s][a][sp]*(R[s][a][sp] + gamma * np.max(Q_prev[sp]))\n",
    "                for sp in range(num_of_states)\n",
    "            ])\n",
    "print(Q_values)\n",
    "print(np.argmax(Q_values, axis=1)) # optimalna akcija u svakom stanju\n",
    "optimal_action_in_state = np.argmax(Q_values, axis=1)"
   ]
  },
  {
   "cell_type": "code",
   "execution_count": 10,
   "id": "7b438c21",
   "metadata": {},
   "outputs": [
    {
     "data": {
      "text/plain": [
       "41.702782618021224"
      ]
     },
     "execution_count": 10,
     "metadata": {},
     "output_type": "execute_result"
    }
   ],
   "source": [
    "Q_values[0,1] \n",
    "# Agent u stanju s0, odabirom akcije a1 moze ocekivati umanjenju sumu buducih nagrada u iznosu od 42.73..."
   ]
  },
  {
   "cell_type": "code",
   "execution_count": 11,
   "id": "4bbaf08f",
   "metadata": {},
   "outputs": [
    {
     "data": {
      "text/plain": [
       "[[[10, 0.0, 0.0], [0, 0, 0], [0, 0, 0]],\n",
       " [[0, 0, 0], [0, 0, 0], [0, 0, -50]],\n",
       " [[0, 0, 0], [40, 0, 0], [0, 0, 0]]]"
      ]
     },
     "execution_count": 11,
     "metadata": {},
     "output_type": "execute_result"
    }
   ],
   "source": [
    "T = [\n",
    "     #a0              #a1              #a2 \n",
    "    [[0.7, 0.3, 0.0], [1.0, 0.0, 0.0], [0.8, 0.2, 0.0]], #s0\n",
    "    [[0.0, 1.0, 0.0], None,            [0.0, 0.0, 1.0]], #s1\n",
    "    [None,            [0.8, 0.1, 0.1], None           ] #s2\n",
    "]\n",
    "R = [\n",
    "    # a0              #a1          #a2\n",
    "    [[+10, 0.0, 0.0], [0,0,0],     [0,0,0]], # s0\n",
    "    [[0, 0, 0],       [0,0,0],     [0,0,-50]], #s1\n",
    "    [[0, 0, 0],       [+40, 0, 0], [0,0,0]]#s2\n",
    "]\n",
    "R"
   ]
  },
  {
   "cell_type": "code",
   "execution_count": 12,
   "id": "947357ad",
   "metadata": {},
   "outputs": [],
   "source": [
    "def exploration_policy(state):\n",
    "    return np.random.choice(possible_actions[state])"
   ]
  },
  {
   "cell_type": "code",
   "execution_count": 13,
   "id": "debd057f",
   "metadata": {},
   "outputs": [],
   "source": [
    "def step(state, action):\n",
    "    p = T[state][action]\n",
    "    next_state = np.random.choice([0,1,2], p=p)\n",
    "    r = R[state][action][next_state]\n",
    "    return next_state, r"
   ]
  },
  {
   "cell_type": "code",
   "execution_count": 14,
   "id": "e25af203",
   "metadata": {},
   "outputs": [],
   "source": [
    "alpha0 = 0.05 # initicijalna brzina ucenja\n",
    "decay = 0.005 # umnjanje brzine ucenja\n",
    "gamma = 0.98 # faktor umanjenja buduce nagrde\n",
    "state = 0\n",
    "\n",
    "Q_values = np.full((3,3), -np.inf)\n",
    "for state, action in enumerate(possible_actions):\n",
    "    Q_values[state][action] = 0\n",
    "\n",
    "num_of_iterations = 10000\n",
    "for iteration in range(num_of_iterations):\n",
    "    action = exploration_policy(state)\n",
    "    next_state, reward = step(state, action)\n",
    "    next_value = np.max(Q_values[next_state])\n",
    "    alpha = alpha0 / (1 + iteration * decay)\n",
    "    Q_values[state, action] *= 1 - alpha\n",
    "    Q_values[state, action] += alpha * (reward + gamma * next_value)\n",
    "    state = next_state"
   ]
  },
  {
   "cell_type": "code",
   "execution_count": 15,
   "id": "92d81392",
   "metadata": {},
   "outputs": [
    {
     "name": "stdout",
     "output_type": "stream",
     "text": [
      "[[21.15318658 20.03441891 15.84683583]\n",
      " [ 0.                -inf -2.63285716]\n",
      " [       -inf 51.93869596        -inf]]\n"
     ]
    }
   ],
   "source": [
    "print(Q_values)"
   ]
  },
  {
   "cell_type": "code",
   "execution_count": 16,
   "id": "f165251e",
   "metadata": {},
   "outputs": [
    {
     "name": "stdout",
     "output_type": "stream",
     "text": [
      "[[21.15318658 20.03441891 15.84683583]\n",
      " [ 0.                -inf -2.63285716]\n",
      " [       -inf 51.93869596        -inf]]\n",
      "[0 0 1]\n"
     ]
    }
   ],
   "source": [
    "print(Q_values)\n",
    "print(np.argmax(Q_values, axis=1)) # optimalna akcija u svakom stanju\n",
    "optimal_action_in_state = np.argmax(Q_values, axis=1)"
   ]
  }
 ],
 "metadata": {
  "kernelspec": {
   "display_name": "Python 3 (ipykernel)",
   "language": "python",
   "name": "python3"
  },
  "language_info": {
   "codemirror_mode": {
    "name": "ipython",
    "version": 3
   },
   "file_extension": ".py",
   "mimetype": "text/x-python",
   "name": "python",
   "nbconvert_exporter": "python",
   "pygments_lexer": "ipython3",
   "version": "3.8.10"
  }
 },
 "nbformat": 4,
 "nbformat_minor": 5
}
