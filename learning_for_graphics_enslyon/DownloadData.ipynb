{
  "nbformat": 4,
  "nbformat_minor": 0,
  "metadata": {
    "colab": {
      "provenance": []
    },
    "interpreter": {
      "hash": "569d6b7e9215e11aba41c6454007e5c1b78bad7df09dab765d8cf00362c40f03"
    },
    "kernelspec": {
      "display_name": "Python 3",
      "language": "python",
      "name": "python3"
    },
    "language_info": {
      "codemirror_mode": {
        "name": "ipython",
        "version": 3
      },
      "file_extension": ".py",
      "mimetype": "text/x-python",
      "name": "python",
      "nbconvert_exporter": "python",
      "pygments_lexer": "ipython3",
      "version": "3.7.9"
    }
  },
  "cells": [
    {
      "cell_type": "markdown",
      "metadata": {
        "id": "wLhV5ZiNSsVE"
      },
      "source": [
        "#### Download all data required for Lab2"
      ]
    },
    {
      "cell_type": "markdown",
      "metadata": {
        "id": "Iwe6p20zSsVG"
      },
      "source": [
        "Run each step to download the database of ~400Mb of images that will be used to train the denoiser. This step can take some time.\n"
      ]
    },
    {
      "cell_type": "code",
      "metadata": {
        "colab": {
          "base_uri": "https://localhost:8080/"
        },
        "id": "Uaj3S2BVUpgJ",
        "outputId": "b451b4d8-ec9b-4297-e5e1-8d4346e2bcc3"
      },
      "source": [
        "from google.colab import files\n",
        "from google.colab import drive\n",
        "drive.mount('/content/gdrive')\n",
        "!ls \"/content/gdrive\""
      ],
      "execution_count": null,
      "outputs": [
        {
          "output_type": "stream",
          "name": "stdout",
          "text": [
            "Mounted at /content/gdrive\n",
            "MyDrive\n"
          ]
        }
      ]
    },
    {
      "cell_type": "code",
      "metadata": {
        "colab": {
          "base_uri": "https://localhost:8080/"
        },
        "id": "_ar1jl6qyHJl",
        "outputId": "ea98d87a-4038-4313-f350-ee271f4852ac"
      },
      "source": [
        "!ls \"/content/gdrive\"\n",
        "!mkdir '/content/gdrive/MyDrive/TP2'\n",
        "!mkdir '/content/gdrive/MyDrive/TP2/images'"
      ],
      "execution_count": null,
      "outputs": [
        {
          "output_type": "stream",
          "name": "stdout",
          "text": [
            "MyDrive\n",
            "mkdir: cannot create directory ‘/content/gdrive/MyDrive/TP2’: File exists\n",
            "mkdir: cannot create directory ‘/content/gdrive/MyDrive/TP2/images’: File exists\n"
          ]
        }
      ]
    },
    {
      "cell_type": "code",
      "metadata": {
        "id": "F-wP8WvT5WB3"
      },
      "source": [
        "import io\n",
        "import requests, zipfile\n",
        "url = \"http://www-sop.inria.fr/members/George.Drettakis/teaching/ENS_Lyon/TP2/images/test.zip\"\n",
        "response = requests.get(url, stream=True)"
      ],
      "execution_count": null,
      "outputs": []
    },
    {
      "cell_type": "markdown",
      "metadata": {
        "id": "ABpKkBSclYsC"
      },
      "source": [
        "The next step will download the first part the data. This can take a few minutes."
      ]
    },
    {
      "cell_type": "code",
      "metadata": {
        "id": "Q8tNhUrK124S"
      },
      "source": [
        "zipDocument = zipfile.ZipFile(io.BytesIO(response.content))\n",
        "zipDocument.extractall('/content/gdrive/MyDrive/TP2/images')"
      ],
      "execution_count": null,
      "outputs": []
    },
    {
      "cell_type": "markdown",
      "metadata": {
        "id": "ePSS7ioTluP9"
      },
      "source": [
        "Download 2nd part of the data. Again can take some time."
      ]
    },
    {
      "cell_type": "code",
      "metadata": {
        "id": "o5H6EK3iWTog"
      },
      "source": [
        "url = \"http://www-sop.inria.fr/members/George.Drettakis/teaching/ENS_Lyon/TP2/images/train.zip\"\n",
        "response = requests.get(url, stream=True)\n",
        "zipDocument = zipfile.ZipFile(io.BytesIO(response.content))\n",
        "zipDocument.extractall('/content/gdrive/MyDrive/TP2/images')"
      ],
      "execution_count": null,
      "outputs": []
    },
    {
      "cell_type": "markdown",
      "metadata": {
        "id": "ZIIHj6wnl3YS"
      },
      "source": [
        "Check if everything is set up correctly in your google drive."
      ]
    },
    {
      "cell_type": "code",
      "metadata": {
        "colab": {
          "base_uri": "https://localhost:8080/"
        },
        "id": "BrwnfttY6yh-",
        "outputId": "c69d90d5-d0da-4d03-84ac-aff55f3d7c15"
      },
      "source": [
        "!ls '/content/gdrive/MyDrive/TP2/images/train'\n",
        "!ls '/content/gdrive/MyDrive/TP2/images/test'"
      ],
      "execution_count": null,
      "outputs": [
        {
          "output_type": "stream",
          "name": "stdout",
          "text": [
            "berry  bird  dog  flower  other\n",
            "berry  bird  dog  flower  other\n"
          ]
        }
      ]
    },
    {
      "cell_type": "markdown",
      "metadata": {
        "id": "SnNPSNOpl9xC"
      },
      "source": [
        "You should see this:\n",
        "\n",
        "berry  bird  dog  flower  other\n",
        "\n",
        "\n",
        "berry  bird  dog  flower  other\n",
        "\n"
      ]
    }
  ]
}